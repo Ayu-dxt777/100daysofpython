{
 "cells": [
  {
   "cell_type": "markdown",
   "metadata": {},
   "source": [
    "# Day 10 - Calculator - Using Dictionaries with functions "
   ]
  },
  {
   "cell_type": "code",
   "execution_count": 1,
   "metadata": {},
   "outputs": [
    {
     "ename": "ModuleNotFoundError",
     "evalue": "No module named 'art'",
     "output_type": "error",
     "traceback": [
      "\u001b[1;31m---------------------------------------------------------------------------\u001b[0m",
      "\u001b[1;31mModuleNotFoundError\u001b[0m                       Traceback (most recent call last)",
      "\u001b[1;32m<ipython-input-1-b066e1dacf01>\u001b[0m in \u001b[0;36m<module>\u001b[1;34m\u001b[0m\n\u001b[0;32m      1\u001b[0m \u001b[1;31m# MY CODE\u001b[0m\u001b[1;33m\u001b[0m\u001b[1;33m\u001b[0m\u001b[1;33m\u001b[0m\u001b[0m\n\u001b[0;32m      2\u001b[0m \u001b[1;33m\u001b[0m\u001b[0m\n\u001b[1;32m----> 3\u001b[1;33m \u001b[1;32mfrom\u001b[0m \u001b[0mart\u001b[0m \u001b[1;32mimport\u001b[0m \u001b[0mlogo\u001b[0m\u001b[1;33m\u001b[0m\u001b[1;33m\u001b[0m\u001b[0m\n\u001b[0m\u001b[0;32m      4\u001b[0m \u001b[1;32mfrom\u001b[0m \u001b[0mreplit\u001b[0m \u001b[1;32mimport\u001b[0m \u001b[0mclear\u001b[0m\u001b[1;33m\u001b[0m\u001b[1;33m\u001b[0m\u001b[0m\n\u001b[0;32m      5\u001b[0m \u001b[1;33m\u001b[0m\u001b[0m\n",
      "\u001b[1;31mModuleNotFoundError\u001b[0m: No module named 'art'"
     ]
    }
   ],
   "source": [
    "# MY CODE \n",
    "\n",
    "from art import logo \n",
    "from replit import clear\n",
    "\n",
    "print(logo)\n",
    "\n",
    "def add(n1, n2):\n",
    "  return n1 + n2\n",
    "\n",
    "def sub(n1, n2):\n",
    "  return n1 - n2\n",
    "\n",
    "def multiply(n1, n2):\n",
    "  return n1 * n2\n",
    "\n",
    "def divide(n1, n2):\n",
    "  return n1/n2\n",
    "n1 = int(input(\"What's the first number? \"))\n",
    "operation = str(input(\"Pick an operation: \\n + \\n - \\n * \\n / \\n \"))\n",
    "n2 = int(input(\"What's the next number?: \\n\"))\n",
    "dict = {\"+\": add, \"-\": sub, \"*\": multiply, \"/\": divide}\n",
    "function = dict[operation]\n",
    "result = function(n1,n2)\n",
    "print(f\"{n1} {operation}  {n2} : {result}\")\n",
    "calculation_finished = False\n",
    "while not calculation_finished : \n",
    "  n1 = result\n",
    "  wish_continue = str(input(f\"Type 'y' to continue calculating with {result}, or type 'n' to start a new calculation, type 'exit' to exit: \"))\n",
    "  if wish_continue == \"y\":\n",
    "    operation = str(input(\"Pick an operation: \\n + \\n - \\n * \\n / \\n\"))\n",
    "    function = dict[operation]\n",
    "    n2 = int(input(\"What's the next number?\"))\n",
    "    result2 = function(n1,n2)\n",
    "    print(f\"{n1}  {operation} {n2} : {result2}\")\n",
    "  elif wish_continue == 'n':\n",
    "    print(logo)\n",
    "    n1 = int(input(\"What's the first number?\"))\n",
    "    operation = str(input(\"Pick an operation: \\n + \\n - \\n * \\n / \\n\"))\n",
    "    n2 = int(input(\"What's the next number?\"))\n",
    "    result = dict[operation]\n",
    "    print(f\"{n1} {operation} {n2} : {result}\")\n",
    "  elif wish_continue == 'exit':\n",
    "    calculation_finished = True\n",
    "  else:\n",
    "    print(\"try again\")"
   ]
  },
  {
   "cell_type": "code",
   "execution_count": null,
   "metadata": {},
   "outputs": [],
   "source": [
    "# INSTRUCTORS CODE \n",
    "from replit import clear\n",
    "from art import logo\n",
    "\n",
    "def add(n1, n2):\n",
    "  return n1 + n2\n",
    "\n",
    "def subtract(n1, n2):\n",
    "  return n1 - n2\n",
    "\n",
    "def multiply(n1, n2):\n",
    "  return n1 * n2\n",
    "\n",
    "def divide(n1, n2):\n",
    "  return n1 / n2\n",
    "\n",
    "operations = {\n",
    "  \"+\": add,\n",
    "  \"-\": subtract,\n",
    "  \"*\": multiply,\n",
    "  \"/\": divide\n",
    "}\n",
    "\n",
    "def calculator():\n",
    "  print(logo)\n",
    "\n",
    "  num1 = float(input(\"What's the first number?: \"))\n",
    "  for symbol in operations:\n",
    "    print(symbol)\n",
    "  should_continue = True\n",
    " \n",
    "  while should_continue:\n",
    "    operation_symbol = input(\"Pick an operation: \")\n",
    "    num2 = float(input(\"What's the next number?: \"))\n",
    "    calculation_function = operations[operation_symbol]\n",
    "    answer = calculation_function(num1, num2)\n",
    "    print(f\"{num1} {operation_symbol} {num2} = {answer}\")\n",
    "\n",
    "    if input(f\"Type 'y' to continue calculating with {answer}, or type 'n' to start a new calculation: \") == 'y':\n",
    "      num1 = answer\n",
    "    else:\n",
    "      should_continue = False\n",
    "      clear()\n",
    "      calculator()\n",
    "\n",
    "calculator()\n"
   ]
  }
 ],
 "metadata": {
  "kernelspec": {
   "display_name": "Python 3",
   "language": "python",
   "name": "python3"
  },
  "language_info": {
   "codemirror_mode": {
    "name": "ipython",
    "version": 3
   },
   "file_extension": ".py",
   "mimetype": "text/x-python",
   "name": "python",
   "nbconvert_exporter": "python",
   "pygments_lexer": "ipython3",
   "version": "3.8.5"
  }
 },
 "nbformat": 4,
 "nbformat_minor": 4
}
